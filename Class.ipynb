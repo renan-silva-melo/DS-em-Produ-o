{
 "cells": [
  {
   "cell_type": "code",
   "execution_count": 33,
   "id": "77aeb9cb",
   "metadata": {},
   "outputs": [
    {
     "name": "stdout",
     "output_type": "stream",
     "text": [
      "<__main__.Member object at 0x0000029B94E0E7C0>\n",
      "Rambo\n",
      "Rocco Moe\n",
      "\n",
      "Princess\n",
      "Rocco Moe\n"
     ]
    }
   ],
   "source": [
    "class Member:\n",
    "    def __init__(self, username, fullname):\n",
    "        self.username = username\n",
    "        self.fullname = fullname\n",
    "\n",
    "new_guy = Member('Rambo', 'Rocco Moe')\n",
    "\n",
    "print(new_guy)\n",
    "print(new_guy.username)\n",
    "print(new_guy.fullname)\n",
    "print()\n",
    "\n",
    "new_guy.username = 'Princess'\n",
    "print(new_guy.username)\n",
    "print(new_guy.fullname)"
   ]
  },
  {
   "cell_type": "code",
   "execution_count": 32,
   "id": "7a4a8904",
   "metadata": {},
   "outputs": [
    {
     "ename": "AttributeError",
     "evalue": "'Member' object has no attribute 'activate'",
     "output_type": "error",
     "traceback": [
      "\u001b[1;31m---------------------------------------------------------------------------\u001b[0m",
      "\u001b[1;31mAttributeError\u001b[0m                            Traceback (most recent call last)",
      "\u001b[1;32m<ipython-input-32-59834f76071b>\u001b[0m in \u001b[0;36m<module>\u001b[1;34m\u001b[0m\n\u001b[0;32m     16\u001b[0m \u001b[0mnew_guy\u001b[0m \u001b[1;33m=\u001b[0m \u001b[0mMember\u001b[0m\u001b[1;33m(\u001b[0m\u001b[1;34m'Rambo'\u001b[0m\u001b[1;33m,\u001b[0m \u001b[1;34m'Roco Moe'\u001b[0m\u001b[1;33m)\u001b[0m\u001b[1;33m\u001b[0m\u001b[1;33m\u001b[0m\u001b[0m\n\u001b[0;32m     17\u001b[0m \u001b[1;33m\u001b[0m\u001b[0m\n\u001b[1;32m---> 18\u001b[1;33m \u001b[0mprint\u001b[0m\u001b[1;33m(\u001b[0m\u001b[0mnew_guy\u001b[0m\u001b[1;33m.\u001b[0m\u001b[0mactivate\u001b[0m\u001b[1;33m(\u001b[0m\u001b[1;33m)\u001b[0m\u001b[1;33m)\u001b[0m\u001b[1;33m\u001b[0m\u001b[1;33m\u001b[0m\u001b[0m\n\u001b[0m",
      "\u001b[1;31mAttributeError\u001b[0m: 'Member' object has no attribute 'activate'"
     ]
    }
   ],
   "source": [
    "import datetime as dt\n",
    "\n",
    "class Member:\n",
    "    def __init__(self, username, fullname):\n",
    "        self.username = username\n",
    "        self.fullname = fullname\n",
    "        \n",
    "        self.date_joined = dt.date.today()\n",
    "        self.is_active = True\n",
    "        \n",
    "        def show_datejoined(self):\n",
    "            return f\"{self.fullname} joined on {self.date_joined: %m-%d-%y}\"\n",
    "        \n",
    "        def activate(self, yesno):\n",
    "            self.is_active = yesno\n",
    "new_guy = Member('Rambo', 'Roco Moe')\n",
    "\n",
    "print(new_guy.activate())"
   ]
  },
  {
   "cell_type": "code",
   "execution_count": 53,
   "id": "620b5294",
   "metadata": {},
   "outputs": [
    {
     "name": "stdout",
     "output_type": "stream",
     "text": [
      "Roco Moe joined on 03/03/22\n"
     ]
    }
   ],
   "source": [
    "import datetime as dt\n",
    "\n",
    "class Member:\n",
    "    def __init__(self, username, fullname):\n",
    "        self.username = username\n",
    "        self.fullname = fullname\n",
    "        \n",
    "        self.date_joined = dt.date.today()\n",
    "        self.is_active = True\n",
    "        \n",
    "    def show_datejoined(self):\n",
    "            return f\"{self.fullname} joined on {self.date_joined:%m/%d/%y}\"\n",
    "        \n",
    "    def activate(self, yesno):\n",
    "            self.is_active = yesno\n",
    "            \n",
    "new_guy = Member('Rambo', 'Roco Moe')\n",
    "\n",
    "print(new_guy.show_datejoined())"
   ]
  },
  {
   "cell_type": "code",
   "execution_count": 46,
   "id": "1a982f41",
   "metadata": {},
   "outputs": [
    {
     "name": "stdout",
     "output_type": "stream",
     "text": [
      "True\n",
      "False\n",
      "Roco Moe joined on 03-03-22\n"
     ]
    }
   ],
   "source": [
    "import datetime as dt\n",
    "\n",
    "# Define a new class named Member:\n",
    "class Member:\n",
    "    \"\"\"Create a new Member\"\"\"\n",
    "    def __init__(self, username, fullname):\n",
    "        # Define attibutes and give them values.\n",
    "        self.username = username\n",
    "        self.fullname = fullname\n",
    "        # Defaut date_joined to today's date.\n",
    "        self.date_joined = dt.date.today()\n",
    "        # set is active to True initially.\n",
    "        self.is_active = True\n",
    "        \n",
    "    # A method to return a formatted string showing date joined.\n",
    "    def show_datejoined(self):\n",
    "        return f\"{self.fullname} joined on {self.date_joined:%m-%d-%y}\"\n",
    "    \n",
    "    #Method to activate (True) or deactive (False) account.\n",
    "    def activate(self, yesno):\n",
    "        \"\"\"True for active, False to make inactive\"\"\"\n",
    "        self.is_active = yesno\n",
    "        \n",
    "# The class ends at the first unindented line.\n",
    "\n",
    "# Create an instance of the Member class named new_guy.\n",
    "new_guy = Member('Rambo', 'Roco Moe')\n",
    "\n",
    "# Is the new guy active?\n",
    "print(new_guy.is_active)\n",
    "\n",
    "# Try out the activate method.\n",
    "new_guy.activate(False)\n",
    "\n",
    "# Is the new guy still active?\n",
    "print(new_guy.is_active)\n",
    "\n",
    "print(new_guy.show_datejoined())\n"
   ]
  },
  {
   "cell_type": "code",
   "execution_count": 56,
   "id": "3c4c9b4f",
   "metadata": {},
   "outputs": [
    {
     "name": "stdout",
     "output_type": "stream",
     "text": [
      "2022-03-03\n",
      "2022-06-01\n"
     ]
    }
   ],
   "source": [
    "import datetime as dt\n",
    "# Define a new class name Member.\n",
    "\n",
    "class Member:\n",
    "    # Defaut number of free days.\n",
    "    free_days = 90\n",
    "    \n",
    "    \"\"\" Create a new member.\"\"\"\n",
    "    def __init__(self, username, fullname):\n",
    "        self.date_joined = dt.date.today()\n",
    "        # set an expiration date\n",
    "        self.free_expires = dt.date.today() + dt.timedelta(days = Member.free_days)\n",
    "        \n",
    "# The class ends at the first un-indented line.\n",
    "\n",
    "# Create an instance of the Member class named new_guy.\n",
    "wilbur = Member('wblomgren', 'Wilbur Blomegren')\n",
    "\n",
    "print(wilbur.date_joined)\n",
    "print(wilbur.free_expires)"
   ]
  },
  {
   "cell_type": "code",
   "execution_count": 60,
   "id": "fddffb89",
   "metadata": {},
   "outputs": [
    {
     "name": "stdout",
     "output_type": "stream",
     "text": [
      "01:17 PM\n"
     ]
    }
   ],
   "source": [
    "import datetime as dt\n",
    "\n",
    "# Define a new class named Member.\n",
    "class Member:\n",
    "    # Default number of free days.\n",
    "    free_days = 365\n",
    "    \n",
    "    \"\"\" Creadte a new member \"\"\"\n",
    "    def __init__(self, username, fullname):\n",
    "        self.date_joined = dt.date.today()\n",
    "        #Set an expiration date.\n",
    "        self.free_expires = dt.date.today() + dt.timedelta(days - Member.free_days)\n",
    "        \n",
    "    # Class methods follow @callmethod decorato and refer to cls rather than self.\n",
    "    @classmethod\n",
    "    def setfreedays(cls, days):\n",
    "        cls.free_days = days\n",
    "    \n",
    "    @staticmethod \n",
    "    def currenttime():\n",
    "        now = dt.datetime.now()\n",
    "        return f\"{now:%I:%M %p}\"\n",
    "# Class definition ends at last indented line\n",
    "\n",
    "# Try out the new static method (no object required)\n",
    "print(Member.currenttime())"
   ]
  },
  {
   "cell_type": "code",
   "execution_count": 64,
   "id": "2f6b7bf3",
   "metadata": {},
   "outputs": [
    {
     "name": "stdout",
     "output_type": "stream",
     "text": [
      "Joe\n",
      "Anybody\n",
      "2023-03-03\n"
     ]
    }
   ],
   "source": [
    "import datetime as dt\n",
    "# Class is used or all kinds of people.\n",
    "import datetime as dt\n",
    "\n",
    "# Base class is used for all kinds of Members.\n",
    "class Member:\n",
    "    \"\"\"The Member class attributes and methods are for everyone\"\"\"\n",
    "    #By defaut, a new account expires in one year (365 days)\n",
    "    expiry_days = 365\n",
    "    \n",
    "    #initialize a member object.\n",
    "    def __init__(self, firstname, lastname):\n",
    "        # Attribute (instance variables) for everyone.\n",
    "        self.firstname = firstname\n",
    "        self.lastname =lastname\n",
    "        # Calculate expiry date from today's date.\n",
    "        self.expiry_date = dt.date.today() + dt.timedelta(days = self.expiry_days)\n",
    "        \n",
    "#Outside the class now.\n",
    "Joe = Member('Joe', 'Anybody')\n",
    "print(Joe.firstname)\n",
    "print(Joe.lastname)\n",
    "print(Joe.expiry_date)        \n"
   ]
  },
  {
   "cell_type": "code",
   "execution_count": 68,
   "id": "7a6b9795",
   "metadata": {},
   "outputs": [
    {
     "name": "stdout",
     "output_type": "stream",
     "text": [
      "Angie\n",
      "Angst\n",
      "2122-03-03\n",
      "PRESTO\n",
      "\n",
      "Uli\n",
      "Ungula\n",
      "2023-03-03\n"
     ]
    }
   ],
   "source": [
    "class Admin(Member):\n",
    "    expiry_days = 365.2422 * 100\n",
    "    def __init__(self, firstname, lastname, secret_code):\n",
    "        super().__init__(firstname, lastname)\n",
    "        self.secret_code = secret_code\n",
    "class User(Member):\n",
    "    pass\n",
    "\n",
    "Ann = Admin('Angie', 'Angst', 'PRESTO')\n",
    "print(Ann.firstname)\n",
    "print(Ann.lastname)\n",
    "print(Ann.expiry_date)\n",
    "print(Ann.secret_code)\n",
    "print()\n",
    "Uli = User('Uli', 'Ungula')\n",
    "print(Uli.firstname)\n",
    "print(Uli.lastname)\n",
    "print(Uli.expiry_date)"
   ]
  },
  {
   "cell_type": "code",
   "execution_count": 69,
   "id": "a61ac099",
   "metadata": {},
   "outputs": [
    {
     "name": "stdout",
     "output_type": "stream",
     "text": [
      "Annie Angst 2122-03-03 Presto\n",
      "Uli Ungula 2023-03-03 \n"
     ]
    }
   ],
   "source": [
    "import datetime as dt\n",
    "\n",
    "# Base class is used for all kinds of Members.\n",
    "class Member:\n",
    "    \"\"\"The Member class properties and methods are for everyone\"\"\"\n",
    "    # By defaut, a new account expires in one year (365 days)\n",
    "    expiry_days = 365\n",
    "    \n",
    "    # Initialize a member object.\n",
    "    def __init__(self, firstname, lastname):\n",
    "        # properties (instance variables) for everybody.\n",
    "        self.firstname = firstname\n",
    "        self.lastname = lastname\n",
    "        # Calculate expiry date from today's date.\n",
    "        self.expiry_date = dt.date.today() + dt.timedelta(days=self.expiry_days)\n",
    "        # Defaut secret code is nothing\n",
    "        self.secret_code = ''\n",
    "        \n",
    "    # Method in the base class\n",
    "    def showexpiry(self):\n",
    "        return f\"{self.firstname} {self.lastname} expires on {self.expiry_date}\"\n",
    "    \n",
    "#subclass for Admins:\n",
    "class Admin(Member):\n",
    "    #Admin accounts don't expire for 100 years.\n",
    "    expiry_days = 365.2422 * 100\n",
    "    \n",
    "    # subclass parameters.\n",
    "    def __init__(self, firstname, lastname, secret_code):\n",
    "        # pass Member parameter on up to Member class.\n",
    "        super().__init__(firstname, lastname)\n",
    "        # Assign the remaining parameter to this object.\n",
    "        self.secret_code = secret_code\n",
    "        \n",
    "# Subclass for Users.\n",
    "class User(Member):\n",
    "    pass\n",
    "\n",
    "Ann = Admin(\"Annie\", \"Angst\", \"Presto\")\n",
    "print(Ann.firstname, Ann.lastname, Ann.expiry_date, Ann.secret_code)\n",
    "\n",
    "Uli = User('Uli', 'Ungula')\n",
    "print(Uli.firstname, Uli.lastname, Uli.expiry_date, Uli.secret_code)\n"
   ]
  },
  {
   "cell_type": "code",
   "execution_count": 75,
   "id": "8adb78c0",
   "metadata": {},
   "outputs": [
    {
     "name": "stdout",
     "output_type": "stream",
     "text": [
      "Annie is an Admin.\n",
      "Uli is a regular User\n",
      "Mindy is a Member\n"
     ]
    }
   ],
   "source": [
    "class Member:\n",
    "    \"\"\" The Member class attributes and methods are for everyone \"\"\"\n",
    "    # Initialize a member object.\n",
    "    def __init__(self, firstname, lastname):\n",
    "        # Attributes (instance variables) for everybody.\n",
    "        self.firstname = firstname\n",
    "        self.lastname = lastname\n",
    "        \n",
    "     # Method in the main class\n",
    "    def get_status(self):\n",
    "        return f\"{self.firstname} is a Member\"\n",
    "        \n",
    "# Subclass for Administrators\n",
    "class Admin(Member):\n",
    "    def get_status(self):\n",
    "        return f\"{self.firstname} is an Admin.\"\n",
    "\n",
    "# Subclass for regular users\n",
    "class User(Member):\n",
    "    def get_status(self):\n",
    "        return f\"{self.firstname} is a regular User\"\n",
    "    \n",
    "# Creat an admin\n",
    "Ann = Admin(\"Annie\", \"Angst\")\n",
    "print(Ann.get_status())\n",
    "\n",
    "# Creat an user\n",
    "Uli = User('Uli', 'Ungula')\n",
    "print(Uli.get_status())\n",
    "\n",
    "# Creat a member (neither Admin or User)\n",
    "Manny = Member('Mindy', 'Membo')\n",
    "print(Manny.get_status())"
   ]
  },
  {
   "cell_type": "code",
   "execution_count": null,
   "id": "7a701dd1",
   "metadata": {},
   "outputs": [],
   "source": []
  },
  {
   "cell_type": "code",
   "execution_count": null,
   "id": "4fed0556",
   "metadata": {},
   "outputs": [],
   "source": []
  },
  {
   "cell_type": "code",
   "execution_count": null,
   "id": "60a57a7f",
   "metadata": {},
   "outputs": [],
   "source": []
  },
  {
   "cell_type": "code",
   "execution_count": null,
   "id": "e70de564",
   "metadata": {},
   "outputs": [],
   "source": []
  },
  {
   "cell_type": "code",
   "execution_count": null,
   "id": "c127d8f6",
   "metadata": {},
   "outputs": [],
   "source": []
  },
  {
   "cell_type": "code",
   "execution_count": null,
   "id": "44ab91e8",
   "metadata": {},
   "outputs": [],
   "source": []
  },
  {
   "cell_type": "code",
   "execution_count": null,
   "id": "1ab4e626",
   "metadata": {},
   "outputs": [],
   "source": []
  }
 ],
 "metadata": {
  "kernelspec": {
   "display_name": "Python 3",
   "language": "python",
   "name": "python3"
  },
  "language_info": {
   "codemirror_mode": {
    "name": "ipython",
    "version": 3
   },
   "file_extension": ".py",
   "mimetype": "text/x-python",
   "name": "python",
   "nbconvert_exporter": "python",
   "pygments_lexer": "ipython3",
   "version": "3.8.8"
  }
 },
 "nbformat": 4,
 "nbformat_minor": 5
}
