{
 "cells": [
  {
   "cell_type": "code",
   "execution_count": 5,
   "id": "d2ba9f3b",
   "metadata": {},
   "outputs": [
    {
     "name": "stdout",
     "output_type": "stream",
     "text": [
      "Hello\n"
     ]
    }
   ],
   "source": [
    "def hello(): #Practice function\n",
    "    \"\"\" A docstring describing the function\"\"\"\n",
    "    print('Hello')\n",
    "hello()"
   ]
  },
  {
   "cell_type": "code",
   "execution_count": 7,
   "id": "1f008231",
   "metadata": {},
   "outputs": [],
   "source": [
    "def hello(user_name): # Practice function\n",
    "    '''A docstring discribing th function'''\n",
    "    print('Hello ' + user_name)"
   ]
  },
  {
   "cell_type": "code",
   "execution_count": 10,
   "id": "d3fadcfc",
   "metadata": {},
   "outputs": [
    {
     "ename": "TypeError",
     "evalue": "can only concatenate str (not \"int\") to str",
     "output_type": "error",
     "traceback": [
      "\u001b[1;31m---------------------------------------------------------------------------\u001b[0m",
      "\u001b[1;31mTypeError\u001b[0m                                 Traceback (most recent call last)",
      "\u001b[1;32m<ipython-input-10-a7605a95e33b>\u001b[0m in \u001b[0;36m<module>\u001b[1;34m\u001b[0m\n\u001b[1;32m----> 1\u001b[1;33m \u001b[0mhello\u001b[0m\u001b[1;33m(\u001b[0m\u001b[1;36m23\u001b[0m\u001b[1;33m)\u001b[0m\u001b[1;33m\u001b[0m\u001b[1;33m\u001b[0m\u001b[0m\n\u001b[0m",
      "\u001b[1;32m<ipython-input-7-91b1189d12d5>\u001b[0m in \u001b[0;36mhello\u001b[1;34m(user_name)\u001b[0m\n\u001b[0;32m      1\u001b[0m \u001b[1;32mdef\u001b[0m \u001b[0mhello\u001b[0m\u001b[1;33m(\u001b[0m\u001b[0muser_name\u001b[0m\u001b[1;33m)\u001b[0m\u001b[1;33m:\u001b[0m \u001b[1;31m# Practice function\u001b[0m\u001b[1;33m\u001b[0m\u001b[1;33m\u001b[0m\u001b[0m\n\u001b[0;32m      2\u001b[0m     \u001b[1;34m'''A docstring discribing th function'''\u001b[0m\u001b[1;33m\u001b[0m\u001b[1;33m\u001b[0m\u001b[0m\n\u001b[1;32m----> 3\u001b[1;33m     \u001b[0mprint\u001b[0m\u001b[1;33m(\u001b[0m\u001b[1;34m'Hello '\u001b[0m \u001b[1;33m+\u001b[0m \u001b[0muser_name\u001b[0m\u001b[1;33m)\u001b[0m\u001b[1;33m\u001b[0m\u001b[1;33m\u001b[0m\u001b[0m\n\u001b[0m",
      "\u001b[1;31mTypeError\u001b[0m: can only concatenate str (not \"int\") to str"
     ]
    }
   ],
   "source": [
    "hello(23)"
   ]
  },
  {
   "cell_type": "code",
   "execution_count": 13,
   "id": "dca8afd8",
   "metadata": {},
   "outputs": [],
   "source": [
    "def hello(user_name = 'nobody'): # Practice function\n",
    "    '''A docstring discribing th function'''\n",
    "    print('Hello ' + user_name)"
   ]
  },
  {
   "cell_type": "code",
   "execution_count": 14,
   "id": "8b07d974",
   "metadata": {},
   "outputs": [
    {
     "name": "stdout",
     "output_type": "stream",
     "text": [
      "Hello nobody\n"
     ]
    }
   ],
   "source": [
    "hello()"
   ]
  },
  {
   "cell_type": "code",
   "execution_count": 26,
   "id": "6a40172d",
   "metadata": {},
   "outputs": [],
   "source": [
    "def hello(fname = 'nobody', lname = 'nobody', datestring = 'nobody'): #practice function\n",
    "    \"\"\"A docstring describing the function\"\"\"\n",
    "    print('Hello ' +  fname  + ' ' + lname)\n",
    "    print('The date is ' + datestring)"
   ]
  },
  {
   "cell_type": "code",
   "execution_count": 27,
   "id": "5097f87d",
   "metadata": {},
   "outputs": [
    {
     "name": "stdout",
     "output_type": "stream",
     "text": [
      "Hello nobody nobody\n",
      "The date is nobody\n"
     ]
    }
   ],
   "source": [
    "hello()"
   ]
  },
  {
   "cell_type": "code",
   "execution_count": 28,
   "id": "7f018865",
   "metadata": {},
   "outputs": [
    {
     "name": "stdout",
     "output_type": "stream",
     "text": [
      "Hello Alan Simpson\n",
      "The date is 12/31/2020\n"
     ]
    }
   ],
   "source": [
    "hello('Alan', 'Simpson', '12/31/2020')"
   ]
  },
  {
   "cell_type": "code",
   "execution_count": 29,
   "id": "a73aaa7f",
   "metadata": {},
   "outputs": [],
   "source": [
    "def alphabetize(original_list=[]):\n",
    "    sorted_list = original_list.copy()\n",
    "    sorted_list.sort()\n",
    "    final_list = ''\n",
    "    for name in sorted_list:\n",
    "        final_list += name + ', '\n",
    "    final_list = final_list[:-2]\n",
    "    print(final_list)"
   ]
  },
  {
   "cell_type": "code",
   "execution_count": 30,
   "id": "3f8a9f5d",
   "metadata": {},
   "outputs": [
    {
     "name": "stdout",
     "output_type": "stream",
     "text": [
      "Adams, Maier, Santiago, Schrepfer\n"
     ]
    }
   ],
   "source": [
    "alphabetize(['Schrepfer', 'Maier', 'Santiago', 'Adams'])"
   ]
  },
  {
   "cell_type": "code",
   "execution_count": 31,
   "id": "00f17196",
   "metadata": {},
   "outputs": [],
   "source": [
    "def sorter(*args):\n",
    "    newlist = list(args)\n",
    "    newlist.sort()\n",
    "    print(newlist)"
   ]
  },
  {
   "cell_type": "code",
   "execution_count": 32,
   "id": "ea6ff145",
   "metadata": {},
   "outputs": [
    {
     "name": "stdout",
     "output_type": "stream",
     "text": [
      "[-9000, 0.0001, 1, 2, 1000000]\n"
     ]
    }
   ],
   "source": [
    "sorter(1, 0.0001, 1000000, -9000, 2)"
   ]
  },
  {
   "cell_type": "code",
   "execution_count": 38,
   "id": "9f3d4ad0",
   "metadata": {},
   "outputs": [],
   "source": [
    "def alphabetize(original_list=[]):\n",
    "    sorted_list = original_list.copy()\n",
    "    sorted_list.sort()\n",
    "    final_list = ''\n",
    "    for name in sorted_list:\n",
    "        final_list += name + ', '\n",
    "    final_list = final_list[:-2]\n",
    "    return final_list"
   ]
  },
  {
   "cell_type": "code",
   "execution_count": 40,
   "id": "53d3d43d",
   "metadata": {},
   "outputs": [
    {
     "data": {
      "text/plain": [
       "'Adams, Maier, Santiago, Schrepfer'"
      ]
     },
     "execution_count": 40,
     "metadata": {},
     "output_type": "execute_result"
    }
   ],
   "source": [
    "alphabetize(['Schrepfer', 'Maier', 'Santiago', 'Adams'])"
   ]
  },
  {
   "cell_type": "code",
   "execution_count": 42,
   "id": "f87b3053",
   "metadata": {},
   "outputs": [
    {
     "name": "stdout",
     "output_type": "stream",
     "text": [
      "['Ma', 'Adams', 'diMeola', 'Zandusky']\n"
     ]
    }
   ],
   "source": [
    "names = ['Adams', 'Ma', 'diMeola', 'Zandusky']\n",
    "names.sort(key=len)\n",
    "print(names)"
   ]
  },
  {
   "cell_type": "code",
   "execution_count": 43,
   "id": "5c7ce4dd",
   "metadata": {},
   "outputs": [],
   "source": [
    "def lowercaseof(anystring):\n",
    "    return anystring.lower()"
   ]
  },
  {
   "cell_type": "code",
   "execution_count": 45,
   "id": "a766cf76",
   "metadata": {},
   "outputs": [],
   "source": [
    "names = ['Ma', 'Adams', 'diMeola', 'Zandusky']\n",
    "names.sort(key = lowercaseof)"
   ]
  },
  {
   "cell_type": "code",
   "execution_count": 46,
   "id": "c494d02b",
   "metadata": {},
   "outputs": [
    {
     "name": "stdout",
     "output_type": "stream",
     "text": [
      "['Adams', 'diMeola', 'Ma', 'Zandusky']\n"
     ]
    }
   ],
   "source": [
    "print(names)"
   ]
  },
  {
   "cell_type": "code",
   "execution_count": 47,
   "id": "50fa9b6a",
   "metadata": {},
   "outputs": [
    {
     "name": "stdout",
     "output_type": "stream",
     "text": [
      "['Adams', 'diMeola', 'Ma', 'Zandusky']\n"
     ]
    }
   ],
   "source": [
    "names = ['Ma', 'Adams', 'diMeola', 'Zandusky']\n",
    "names.sort(key= lambda anystring : anystring.lower())\n",
    "print(names)"
   ]
  },
  {
   "cell_type": "code",
   "execution_count": 48,
   "id": "30b7fce3",
   "metadata": {},
   "outputs": [
    {
     "name": "stdout",
     "output_type": "stream",
     "text": [
      "['Adams', 'diMeola', 'Ma', 'Zandusky']\n"
     ]
    }
   ],
   "source": [
    "names = ['Adams', 'Ma', 'diMeola', 'Zandusky']\n",
    "names.sort(key = lambda s: s.lower())\n",
    "print(names)"
   ]
  },
  {
   "cell_type": "code",
   "execution_count": 53,
   "id": "f3b0aeb0",
   "metadata": {},
   "outputs": [],
   "source": [
    "currency = lambda n: f'${n:.2%}'"
   ]
  },
  {
   "cell_type": "code",
   "execution_count": 54,
   "id": "f8890ce0",
   "metadata": {},
   "outputs": [
    {
     "name": "stdout",
     "output_type": "stream",
     "text": [
      "$99.00\n",
      "$123,456,789.10\n",
      "6.50%\n",
      "50.00%\n"
     ]
    }
   ],
   "source": [
    "currency = lambda n: f\"${n:,.2f}\"\n",
    "percent = lambda n: f\"{n:.2%}\"\n",
    "\n",
    "print(currency(99))\n",
    "print(currency(123456789.0987654321))\n",
    "\n",
    "print(percent(0.065))\n",
    "print(percent(.5))"
   ]
  },
  {
   "cell_type": "code",
   "execution_count": 55,
   "id": "798d6a9f",
   "metadata": {},
   "outputs": [],
   "source": [
    "def currency(n):\n",
    "    return f\"${n:,.2f}\"\n",
    "\n",
    "def percent(n):\n",
    "    return f\"{n:.2%}\""
   ]
  },
  {
   "cell_type": "code",
   "execution_count": 56,
   "id": "af968144",
   "metadata": {},
   "outputs": [
    {
     "name": "stdout",
     "output_type": "stream",
     "text": [
      "$99.00\n",
      "$123,456,789.10\n",
      "6.50%\n",
      "50.00%\n"
     ]
    }
   ],
   "source": [
    "print(currency(99))\n",
    "print(currency(123456789.0987654321))\n",
    "\n",
    "print(percent(0.065))\n",
    "print(percent(.5))"
   ]
  },
  {
   "cell_type": "code",
   "execution_count": 57,
   "id": "facdf0e3",
   "metadata": {},
   "outputs": [],
   "source": [
    "def currency(n, w=15):\n",
    "    s = f\"${n:,.2f}\"\n",
    "    return l.rjust(w)\n",
    "\n",
    "def percent(n, w=15):\n",
    "    s=f\"{n:.1%}\"\n",
    "    return s.rjust(w)"
   ]
  },
  {
   "cell_type": "code",
   "execution_count": 62,
   "id": "25ec2d79",
   "metadata": {},
   "outputs": [
    {
     "name": "stdout",
     "output_type": "stream",
     "text": [
      "         $99.00\n",
      "$123,456,789.10\n",
      "           6.5%\n",
      "          50.0%\n"
     ]
    }
   ],
   "source": [
    "print(currency(99))\n",
    "print(currency(123456789.0987654321))\n",
    "\n",
    "print(percent(0.065))\n",
    "print(percent(.5))"
   ]
  },
  {
   "cell_type": "code",
   "execution_count": null,
   "id": "29f3eece",
   "metadata": {},
   "outputs": [],
   "source": []
  },
  {
   "cell_type": "code",
   "execution_count": null,
   "id": "2abb4985",
   "metadata": {},
   "outputs": [],
   "source": []
  },
  {
   "cell_type": "code",
   "execution_count": null,
   "id": "2a281b6e",
   "metadata": {},
   "outputs": [],
   "source": []
  }
 ],
 "metadata": {
  "kernelspec": {
   "display_name": "Python 3",
   "language": "python",
   "name": "python3"
  },
  "language_info": {
   "codemirror_mode": {
    "name": "ipython",
    "version": 3
   },
   "file_extension": ".py",
   "mimetype": "text/x-python",
   "name": "python",
   "nbconvert_exporter": "python",
   "pygments_lexer": "ipython3",
   "version": "3.8.8"
  }
 },
 "nbformat": 4,
 "nbformat_minor": 5
}
